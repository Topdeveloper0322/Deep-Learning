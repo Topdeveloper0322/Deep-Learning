{
 "cells": [
  {
   "cell_type": "markdown",
   "metadata": {},
   "source": [
    "# Testing the general-purpose `NN_trainer` module for regression task\n",
    "### Dr. Tirthajyoti Sarkar, Fremont, CA 94536\n",
    "\n",
    "We implemented a [general-purpose trainer module](https://github.com/tirthajyoti/Deep-learning-with-Python/blob/master/utils/NN_trainer.py) for regression task with tabular datasets. The idea is that you can simply read a dataset (e.g. a CSV file), choose the input and target variables, build a densely-connected neural net, train, predict, and save the model for deployment.\n",
    "\n",
    "- create a trainer object\n",
    "- read a dataset\n",
    "- designate input and output variable(s)\n",
    "- prepare the data (scale, test/train split)\n",
    "- build a model (choosing number of layers, number of neurons, activation function, etc.)\n",
    "- train (choosing number of epochs, learning rate, batch size, etc.)\n",
    "- plot training error over epochs, benchmark against test set predictions\n",
    "- save the model for deploying downstream\n",
    "\n",
    "The module exposes simple, intuitive methods which let you do all these tasks one after another. \n",
    "\n",
    "Often deep learning models for regression tasks are used further downstream in some other computing or data science flow. Consequently, the module is able to give you back a prediction function (trained) which can be used for any further prediction, analytics, or optimization task.\n",
    "\n",
    "This notebook tests the general-purpose trainer module and demonstrates various methods available within the module, with a synthetically generated dataset. "
   ]
  },
  {
   "cell_type": "code",
   "execution_count": 1,
   "metadata": {},
   "outputs": [],
   "source": [
    "import numpy as np\n",
    "import pandas as pd\n",
    "from sklearn.datasets import make_regression"
   ]
  },
  {
   "cell_type": "markdown",
   "metadata": {},
   "source": [
    "### Make some synthetic data using the `make_regression()` function from Scikit-learn"
   ]
  },
  {
   "cell_type": "code",
   "execution_count": 2,
   "metadata": {},
   "outputs": [],
   "source": [
    "data1 = make_regression(n_samples=200, n_features=4, n_informative=2, n_targets=1, \n",
    "                        bias=0.0, effective_rank=None,tail_strength=0.5, \n",
    "                        noise=2.0, shuffle=True, coef=False, random_state=None)\n",
    "df1 = pd.DataFrame(data1[0],columns=['x'+str(i) for i in range(1,5)])\n",
    "df1['y'] = data1[1]"
   ]
  },
  {
   "cell_type": "code",
   "execution_count": 3,
   "metadata": {},
   "outputs": [
    {
     "data": {
      "text/html": [
       "<div>\n",
       "<style scoped>\n",
       "    .dataframe tbody tr th:only-of-type {\n",
       "        vertical-align: middle;\n",
       "    }\n",
       "\n",
       "    .dataframe tbody tr th {\n",
       "        vertical-align: top;\n",
       "    }\n",
       "\n",
       "    .dataframe thead th {\n",
       "        text-align: right;\n",
       "    }\n",
       "</style>\n",
       "<table border=\"1\" class=\"dataframe\">\n",
       "  <thead>\n",
       "    <tr style=\"text-align: right;\">\n",
       "      <th></th>\n",
       "      <th>x1</th>\n",
       "      <th>x2</th>\n",
       "      <th>x3</th>\n",
       "      <th>x4</th>\n",
       "      <th>y</th>\n",
       "    </tr>\n",
       "  </thead>\n",
       "  <tbody>\n",
       "    <tr>\n",
       "      <th>0</th>\n",
       "      <td>0.846714</td>\n",
       "      <td>1.192538</td>\n",
       "      <td>0.222135</td>\n",
       "      <td>0.083209</td>\n",
       "      <td>50.469653</td>\n",
       "    </tr>\n",
       "    <tr>\n",
       "      <th>1</th>\n",
       "      <td>0.401983</td>\n",
       "      <td>0.415436</td>\n",
       "      <td>-0.014497</td>\n",
       "      <td>-0.458806</td>\n",
       "      <td>17.665510</td>\n",
       "    </tr>\n",
       "    <tr>\n",
       "      <th>2</th>\n",
       "      <td>2.018747</td>\n",
       "      <td>1.743269</td>\n",
       "      <td>0.589840</td>\n",
       "      <td>-0.825264</td>\n",
       "      <td>137.178923</td>\n",
       "    </tr>\n",
       "    <tr>\n",
       "      <th>3</th>\n",
       "      <td>-0.059588</td>\n",
       "      <td>0.791043</td>\n",
       "      <td>1.156163</td>\n",
       "      <td>0.730748</td>\n",
       "      <td>102.487704</td>\n",
       "    </tr>\n",
       "    <tr>\n",
       "      <th>4</th>\n",
       "      <td>0.540433</td>\n",
       "      <td>0.895067</td>\n",
       "      <td>1.274116</td>\n",
       "      <td>1.124877</td>\n",
       "      <td>143.243128</td>\n",
       "    </tr>\n",
       "  </tbody>\n",
       "</table>\n",
       "</div>"
      ],
      "text/plain": [
       "         x1        x2        x3        x4           y\n",
       "0  0.846714  1.192538  0.222135  0.083209   50.469653\n",
       "1  0.401983  0.415436 -0.014497 -0.458806   17.665510\n",
       "2  2.018747  1.743269  0.589840 -0.825264  137.178923\n",
       "3 -0.059588  0.791043  1.156163  0.730748  102.487704\n",
       "4  0.540433  0.895067  1.274116  1.124877  143.243128"
      ]
     },
     "execution_count": 3,
     "metadata": {},
     "output_type": "execute_result"
    }
   ],
   "source": [
    "df1.head()"
   ]
  },
  {
   "cell_type": "markdown",
   "metadata": {},
   "source": [
    "### Create a useless variable\n",
    "\n",
    "We insert a column of a useless variable into the dataset. This is to show a particular feature of the module which detects such _un-interesting_ variable automatically and eliminates them."
   ]
  },
  {
   "cell_type": "code",
   "execution_count": 4,
   "metadata": {},
   "outputs": [],
   "source": [
    "df1['x5'] = -1"
   ]
  },
  {
   "cell_type": "code",
   "execution_count": 5,
   "metadata": {},
   "outputs": [
    {
     "data": {
      "text/html": [
       "<div>\n",
       "<style scoped>\n",
       "    .dataframe tbody tr th:only-of-type {\n",
       "        vertical-align: middle;\n",
       "    }\n",
       "\n",
       "    .dataframe tbody tr th {\n",
       "        vertical-align: top;\n",
       "    }\n",
       "\n",
       "    .dataframe thead th {\n",
       "        text-align: right;\n",
       "    }\n",
       "</style>\n",
       "<table border=\"1\" class=\"dataframe\">\n",
       "  <thead>\n",
       "    <tr style=\"text-align: right;\">\n",
       "      <th></th>\n",
       "      <th>x1</th>\n",
       "      <th>x2</th>\n",
       "      <th>x3</th>\n",
       "      <th>x4</th>\n",
       "      <th>y</th>\n",
       "      <th>x5</th>\n",
       "    </tr>\n",
       "  </thead>\n",
       "  <tbody>\n",
       "    <tr>\n",
       "      <th>0</th>\n",
       "      <td>0.846714</td>\n",
       "      <td>1.192538</td>\n",
       "      <td>0.222135</td>\n",
       "      <td>0.083209</td>\n",
       "      <td>50.469653</td>\n",
       "      <td>-1</td>\n",
       "    </tr>\n",
       "    <tr>\n",
       "      <th>1</th>\n",
       "      <td>0.401983</td>\n",
       "      <td>0.415436</td>\n",
       "      <td>-0.014497</td>\n",
       "      <td>-0.458806</td>\n",
       "      <td>17.665510</td>\n",
       "      <td>-1</td>\n",
       "    </tr>\n",
       "    <tr>\n",
       "      <th>2</th>\n",
       "      <td>2.018747</td>\n",
       "      <td>1.743269</td>\n",
       "      <td>0.589840</td>\n",
       "      <td>-0.825264</td>\n",
       "      <td>137.178923</td>\n",
       "      <td>-1</td>\n",
       "    </tr>\n",
       "    <tr>\n",
       "      <th>3</th>\n",
       "      <td>-0.059588</td>\n",
       "      <td>0.791043</td>\n",
       "      <td>1.156163</td>\n",
       "      <td>0.730748</td>\n",
       "      <td>102.487704</td>\n",
       "      <td>-1</td>\n",
       "    </tr>\n",
       "    <tr>\n",
       "      <th>4</th>\n",
       "      <td>0.540433</td>\n",
       "      <td>0.895067</td>\n",
       "      <td>1.274116</td>\n",
       "      <td>1.124877</td>\n",
       "      <td>143.243128</td>\n",
       "      <td>-1</td>\n",
       "    </tr>\n",
       "  </tbody>\n",
       "</table>\n",
       "</div>"
      ],
      "text/plain": [
       "         x1        x2        x3        x4           y  x5\n",
       "0  0.846714  1.192538  0.222135  0.083209   50.469653  -1\n",
       "1  0.401983  0.415436 -0.014497 -0.458806   17.665510  -1\n",
       "2  2.018747  1.743269  0.589840 -0.825264  137.178923  -1\n",
       "3 -0.059588  0.791043  1.156163  0.730748  102.487704  -1\n",
       "4  0.540433  0.895067  1.274116  1.124877  143.243128  -1"
      ]
     },
     "execution_count": 5,
     "metadata": {},
     "output_type": "execute_result"
    }
   ],
   "source": [
    "df1.head()"
   ]
  },
  {
   "cell_type": "markdown",
   "metadata": {},
   "source": [
    "### Import the `Trainer` class from the `NN_trainer` module"
   ]
  },
  {
   "cell_type": "code",
   "execution_count": 6,
   "metadata": {},
   "outputs": [],
   "source": [
    "from NN_trainer import Trainer"
   ]
  },
  {
   "cell_type": "code",
   "execution_count": 7,
   "metadata": {},
   "outputs": [],
   "source": [
    "t = Trainer()"
   ]
  },
  {
   "cell_type": "markdown",
   "metadata": {},
   "source": [
    "### What is this object?"
   ]
  },
  {
   "cell_type": "code",
   "execution_count": 8,
   "metadata": {},
   "outputs": [
    {
     "name": "stdout",
     "output_type": "stream",
     "text": [
      "Hello, I am a neural net trainer!\n"
     ]
    }
   ],
   "source": [
    "print(t)"
   ]
  },
  {
   "cell_type": "markdown",
   "metadata": {},
   "source": [
    "### If we want to train something now, an error message appears!"
   ]
  },
  {
   "cell_type": "code",
   "execution_count": 9,
   "metadata": {},
   "outputs": [
    {
     "name": "stdout",
     "output_type": "stream",
     "text": [
      "Model has not been built yet. Cannot train!\n"
     ]
    }
   ],
   "source": [
    "t.train_model()"
   ]
  },
  {
   "cell_type": "markdown",
   "metadata": {},
   "source": [
    "### If we want to build a model right now, an error message appears!"
   ]
  },
  {
   "cell_type": "code",
   "execution_count": 10,
   "metadata": {},
   "outputs": [
    {
     "name": "stdout",
     "output_type": "stream",
     "text": [
      "Data preparation not done yet. Should not build a model!\n"
     ]
    }
   ],
   "source": [
    "t.build_model()"
   ]
  },
  {
   "cell_type": "markdown",
   "metadata": {},
   "source": [
    "### If we want to prepare data (for modeling), an error message appears!"
   ]
  },
  {
   "cell_type": "code",
   "execution_count": 11,
   "metadata": {},
   "outputs": [
    {
     "name": "stdout",
     "output_type": "stream",
     "text": [
      "No data has been read yet. Cannot do processing!\n"
     ]
    }
   ],
   "source": [
    "t.prepare_data()"
   ]
  },
  {
   "cell_type": "markdown",
   "metadata": {},
   "source": [
    "Various types of error-checking code has been built into the module to catch and prevent a task to be performed at a wrong time (e.g. trying to build a model without reading in a dataset)"
   ]
  },
  {
   "cell_type": "markdown",
   "metadata": {},
   "source": [
    "### Now we copy the synthetic dataset to the trainer object dataset\n",
    "\n",
    "The `Trainer` object has an internal Pandas DataFrame called `df`. Here, for demo purpose, we are just using an internally generated DataFrame and setting it to this `df`. But this is not usually how you will read in a dataset.\n",
    "\n",
    "Note that the module provides a `read_csv()` method for reading in a CSV file as a Pandas DataFrame. You will, in most situations, use that method to read in an external dataset (a CSV file) for modeling purpose.\n",
    "\n",
    "At the initialization, the `df` is set to `None`."
   ]
  },
  {
   "cell_type": "code",
   "execution_count": 12,
   "metadata": {},
   "outputs": [
    {
     "name": "stdout",
     "output_type": "stream",
     "text": [
      "Internal dataset is None\n"
     ]
    }
   ],
   "source": [
    "if t.df is None:\n",
    "    print(\"Internal dataset is None\")"
   ]
  },
  {
   "cell_type": "code",
   "execution_count": 13,
   "metadata": {},
   "outputs": [],
   "source": [
    "t.df = df1"
   ]
  },
  {
   "cell_type": "markdown",
   "metadata": {},
   "source": [
    "Now, the internal dataset is a regular Pandas DataFrame"
   ]
  },
  {
   "cell_type": "code",
   "execution_count": 14,
   "metadata": {},
   "outputs": [
    {
     "data": {
      "text/html": [
       "<div>\n",
       "<style scoped>\n",
       "    .dataframe tbody tr th:only-of-type {\n",
       "        vertical-align: middle;\n",
       "    }\n",
       "\n",
       "    .dataframe tbody tr th {\n",
       "        vertical-align: top;\n",
       "    }\n",
       "\n",
       "    .dataframe thead th {\n",
       "        text-align: right;\n",
       "    }\n",
       "</style>\n",
       "<table border=\"1\" class=\"dataframe\">\n",
       "  <thead>\n",
       "    <tr style=\"text-align: right;\">\n",
       "      <th></th>\n",
       "      <th>x1</th>\n",
       "      <th>x2</th>\n",
       "      <th>x3</th>\n",
       "      <th>x4</th>\n",
       "      <th>y</th>\n",
       "      <th>x5</th>\n",
       "    </tr>\n",
       "  </thead>\n",
       "  <tbody>\n",
       "    <tr>\n",
       "      <th>count</th>\n",
       "      <td>200.000000</td>\n",
       "      <td>200.000000</td>\n",
       "      <td>200.000000</td>\n",
       "      <td>200.000000</td>\n",
       "      <td>200.000000</td>\n",
       "      <td>200.0</td>\n",
       "    </tr>\n",
       "    <tr>\n",
       "      <th>mean</th>\n",
       "      <td>0.070773</td>\n",
       "      <td>0.160090</td>\n",
       "      <td>0.062019</td>\n",
       "      <td>0.059811</td>\n",
       "      <td>8.456266</td>\n",
       "      <td>-1.0</td>\n",
       "    </tr>\n",
       "    <tr>\n",
       "      <th>std</th>\n",
       "      <td>0.986712</td>\n",
       "      <td>1.087917</td>\n",
       "      <td>0.959313</td>\n",
       "      <td>1.051857</td>\n",
       "      <td>91.944281</td>\n",
       "      <td>0.0</td>\n",
       "    </tr>\n",
       "    <tr>\n",
       "      <th>min</th>\n",
       "      <td>-2.962772</td>\n",
       "      <td>-2.804898</td>\n",
       "      <td>-2.983775</td>\n",
       "      <td>-2.498102</td>\n",
       "      <td>-285.072441</td>\n",
       "      <td>-1.0</td>\n",
       "    </tr>\n",
       "    <tr>\n",
       "      <th>25%</th>\n",
       "      <td>-0.516149</td>\n",
       "      <td>-0.613550</td>\n",
       "      <td>-0.579462</td>\n",
       "      <td>-0.642317</td>\n",
       "      <td>-49.594825</td>\n",
       "      <td>-1.0</td>\n",
       "    </tr>\n",
       "    <tr>\n",
       "      <th>50%</th>\n",
       "      <td>0.105723</td>\n",
       "      <td>0.167176</td>\n",
       "      <td>0.137037</td>\n",
       "      <td>-0.046116</td>\n",
       "      <td>9.884785</td>\n",
       "      <td>-1.0</td>\n",
       "    </tr>\n",
       "    <tr>\n",
       "      <th>75%</th>\n",
       "      <td>0.776176</td>\n",
       "      <td>0.907556</td>\n",
       "      <td>0.666958</td>\n",
       "      <td>0.882254</td>\n",
       "      <td>66.733337</td>\n",
       "      <td>-1.0</td>\n",
       "    </tr>\n",
       "    <tr>\n",
       "      <th>max</th>\n",
       "      <td>2.608495</td>\n",
       "      <td>2.714743</td>\n",
       "      <td>3.333725</td>\n",
       "      <td>3.651494</td>\n",
       "      <td>302.668195</td>\n",
       "      <td>-1.0</td>\n",
       "    </tr>\n",
       "  </tbody>\n",
       "</table>\n",
       "</div>"
      ],
      "text/plain": [
       "               x1          x2          x3          x4           y     x5\n",
       "count  200.000000  200.000000  200.000000  200.000000  200.000000  200.0\n",
       "mean     0.070773    0.160090    0.062019    0.059811    8.456266   -1.0\n",
       "std      0.986712    1.087917    0.959313    1.051857   91.944281    0.0\n",
       "min     -2.962772   -2.804898   -2.983775   -2.498102 -285.072441   -1.0\n",
       "25%     -0.516149   -0.613550   -0.579462   -0.642317  -49.594825   -1.0\n",
       "50%      0.105723    0.167176    0.137037   -0.046116    9.884785   -1.0\n",
       "75%      0.776176    0.907556    0.666958    0.882254   66.733337   -1.0\n",
       "max      2.608495    2.714743    3.333725    3.651494  302.668195   -1.0"
      ]
     },
     "execution_count": 14,
     "metadata": {},
     "output_type": "execute_result"
    }
   ],
   "source": [
    "t.df.describe()"
   ]
  },
  {
   "cell_type": "markdown",
   "metadata": {},
   "source": [
    "### We can even create simple scatter plots"
   ]
  },
  {
   "cell_type": "code",
   "execution_count": 15,
   "metadata": {},
   "outputs": [
    {
     "data": {
      "text/plain": [
       "<Figure size 700x500 with 1 Axes>"
      ]
     },
     "metadata": {},
     "output_type": "display_data"
    }
   ],
   "source": [
    "t.plot_xy('x1','y')"
   ]
  },
  {
   "cell_type": "code",
   "execution_count": 16,
   "metadata": {},
   "outputs": [
    {
     "data": {
      "image/png": "[encoded data removed]",
      "text/plain": [
       "<Figure size 504x360 with 1 Axes>"
      ]
     },
     "metadata": {},
     "output_type": "display_data"
    }
   ],
   "source": [
    "t.plot_xy('x1','x2')"
   ]
  },
  {
   "cell_type": "markdown",
   "metadata": {},
   "source": [
    "### Now drop the _un-interesting_ variable"
   ]
  },
  {
   "cell_type": "code",
   "execution_count": 17,
   "metadata": {},
   "outputs": [
    {
     "name": "stdout",
     "output_type": "stream",
     "text": [
      "Dropped the following column: x5\n"
     ]
    }
   ],
   "source": [
    "t.drop_static_cols()"
   ]
  },
  {
   "cell_type": "code",
   "execution_count": 18,
   "metadata": {},
   "outputs": [
    {
     "name": "stdout",
     "output_type": "stream",
     "text": [
      "Here are the features: x1, x2, x3, x4, and y."
     ]
    }
   ],
   "source": [
    "t.show_cols()"
   ]
  },
  {
   "cell_type": "markdown",
   "metadata": {},
   "source": [
    "## Handling missing values in the dataset\n",
    "The `show_missing()` and `drop_missing()` methods are used to detect and drop missing values (rows of data) from the dataset before user starts modeling. Internally, they just use Pandas `isna()` and `dropna()` functions."
   ]
  },
  {
   "cell_type": "code",
   "execution_count": 19,
   "metadata": {},
   "outputs": [],
   "source": [
    "t.df.iloc[2]['x1']=np.nan\n",
    "t.df.iloc[4]['x4']=np.nan"
   ]
  },
  {
   "cell_type": "code",
   "execution_count": 20,
   "metadata": {},
   "outputs": [
    {
     "name": "stdout",
     "output_type": "stream",
     "text": [
      "The following table shows the number of missing values in the dataset (by the features)\n",
      "\n",
      "x1    1\n",
      "x2    0\n",
      "x3    0\n",
      "x4    1\n",
      "y     0\n",
      "dtype: int64\n"
     ]
    }
   ],
   "source": [
    "t.show_missing()"
   ]
  },
  {
   "cell_type": "code",
   "execution_count": 21,
   "metadata": {},
   "outputs": [],
   "source": [
    "t.drop_missing()"
   ]
  },
  {
   "cell_type": "code",
   "execution_count": 22,
   "metadata": {},
   "outputs": [
    {
     "name": "stdout",
     "output_type": "stream",
     "text": [
      "<class 'pandas.core.frame.DataFrame'>\n",
      "Int64Index: 198 entries, 0 to 199\n",
      "Data columns (total 5 columns):\n",
      "x1    198 non-null float64\n",
      "x2    198 non-null float64\n",
      "x3    198 non-null float64\n",
      "x4    198 non-null float64\n",
      "y     198 non-null float64\n",
      "dtypes: float64(5)\n",
      "memory usage: 9.3 KB\n"
     ]
    }
   ],
   "source": [
    "t.df.info()"
   ]
  },
  {
   "cell_type": "markdown",
   "metadata": {},
   "source": [
    "### Trying to set the output variable - spelled it wrong (`v` instead of `y`)"
   ]
  },
  {
   "cell_type": "code",
   "execution_count": 23,
   "metadata": {},
   "outputs": [
    {
     "name": "stdout",
     "output_type": "stream",
     "text": [
      "Following feature is set as output (to be modeled): v\n",
      "Warning! The designated output variable v is not in the list of columns of the dataset!\n"
     ]
    }
   ],
   "source": [
    "t.set_single_output('v')"
   ]
  },
  {
   "cell_type": "markdown",
   "metadata": {},
   "source": [
    "### Setting the correct output variable `y`"
   ]
  },
  {
   "cell_type": "code",
   "execution_count": 24,
   "metadata": {},
   "outputs": [
    {
     "name": "stdout",
     "output_type": "stream",
     "text": [
      "Following feature is set as output (to be modeled): y\n"
     ]
    }
   ],
   "source": [
    "t.set_single_output('y')"
   ]
  },
  {
   "cell_type": "markdown",
   "metadata": {},
   "source": [
    "### Setting the input variables"
   ]
  },
  {
   "cell_type": "code",
   "execution_count": 25,
   "metadata": {},
   "outputs": [
    {
     "name": "stdout",
     "output_type": "stream",
     "text": [
      "Following features are set as input: x1, x2, x3, and x4."
     ]
    }
   ],
   "source": [
    "t.set_inputs(['x1','x2','x3','x4'])"
   ]
  },
  {
   "cell_type": "markdown",
   "metadata": {},
   "source": [
    "### Preparing the dataset\n",
    "\n",
    "This is a somewhat automated function. With a single line of code, user can instruct the software to intelligently scale all the input and output variables as per the range of their values, create test/train splits for DNN modeling, and prepare the dataset to be fed into a DNN."
   ]
  },
  {
   "cell_type": "code",
   "execution_count": 26,
   "metadata": {},
   "outputs": [],
   "source": [
    "t.prepare_data()"
   ]
  },
  {
   "cell_type": "markdown",
   "metadata": {},
   "source": [
    "### Build the model\n",
    "This lets the user build a DNN model of her choice with various configurable parameters (e.g. number of hidden layers, number of neurons in each layer, activation function, etc.)"
   ]
  },
  {
   "cell_type": "code",
   "execution_count": 41,
   "metadata": {},
   "outputs": [
    {
     "data": {
      "text/plain": [
       "<keras.engine.sequential.Sequential at 0x13b2d895940>"
      ]
     },
     "execution_count": 41,
     "metadata": {},
     "output_type": "execute_result"
    }
   ],
   "source": [
    "t.build_model(n_hidden_layers=2,\n",
    "              layer_architecture=[20, 20])"
   ]
  },
  {
   "cell_type": "markdown",
   "metadata": {},
   "source": [
    "### Train (fit) the model\n",
    "\n",
    "This lets the user train the model with configurable parameters (number of epochs, learning rate, batch size, etc.)"
   ]
  },
  {
   "cell_type": "code",
   "execution_count": 42,
   "metadata": {},
   "outputs": [
    {
     "name": "stdout",
     "output_type": "stream",
     "text": [
      "Epoch 1/30\n",
      "138/138 [==============================] - 0s 3ms/step - loss: 0.0608 - mean_squared_error: 0.0608\n",
      "Epoch 2/30\n",
      "138/138 [==============================] - 0s 1ms/step - loss: 0.0075 - mean_squared_error: 0.0075\n",
      "Epoch 3/30\n",
      "138/138 [==============================] - 0s 1ms/step - loss: 0.0051 - mean_squared_error: 0.0051\n",
      "Epoch 4/30\n",
      "138/138 [==============================] - 0s 1ms/step - loss: 0.0036 - mean_squared_error: 0.0036\n",
      "Epoch 5/30\n",
      "138/138 [==============================] - 0s 1ms/step - loss: 0.0028 - mean_squared_error: 0.0028\n",
      "Epoch 6/30\n",
      "138/138 [==============================] - 0s 1ms/step - loss: 0.0023 - mean_squared_error: 0.0023\n",
      "Epoch 7/30\n",
      "138/138 [==============================] - 0s 1ms/step - loss: 0.0019 - mean_squared_error: 0.0019\n",
      "Epoch 8/30\n",
      "138/138 [==============================] - 0s 1ms/step - loss: 0.0015 - mean_squared_error: 0.0015\n",
      "Epoch 9/30\n",
      "138/138 [==============================] - 0s 1ms/step - loss: 0.0014 - mean_squared_error: 0.0014\n",
      "Epoch 10/30\n",
      "138/138 [==============================] - 0s 1ms/step - loss: 0.0012 - mean_squared_error: 0.0012\n",
      "Epoch 11/30\n",
      "138/138 [==============================] - 0s 1ms/step - loss: 9.0884e-04 - mean_squared_error: 9.0884e-04\n",
      "Epoch 12/30\n",
      "138/138 [==============================] - 0s 1ms/step - loss: 7.7148e-04 - mean_squared_error: 7.7148e-04\n",
      "Epoch 13/30\n",
      "138/138 [==============================] - 0s 1ms/step - loss: 6.4336e-04 - mean_squared_error: 6.4336e-04\n",
      "Epoch 14/30\n",
      "138/138 [==============================] - 0s 1ms/step - loss: 4.8863e-04 - mean_squared_error: 4.8863e-04\n",
      "Epoch 15/30\n",
      "138/138 [==============================] - 0s 1ms/step - loss: 4.1388e-04 - mean_squared_error: 4.1388e-04\n",
      "Epoch 16/30\n",
      "138/138 [==============================] - 0s 1ms/step - loss: 4.0460e-04 - mean_squared_error: 4.0460e-04\n",
      "Epoch 17/30\n",
      "138/138 [==============================] - 0s 2ms/step - loss: 3.2259e-04 - mean_squared_error: 3.2259e-04\n",
      "Epoch 18/30\n",
      "138/138 [==============================] - 0s 1ms/step - loss: 2.3985e-04 - mean_squared_error: 2.3985e-04\n",
      "Epoch 19/30\n",
      "138/138 [==============================] - 0s 1ms/step - loss: 2.1647e-04 - mean_squared_error: 2.1647e-04\n",
      "Epoch 20/30\n",
      "138/138 [==============================] - 0s 1ms/step - loss: 2.2491e-04 - mean_squared_error: 2.2491e-04\n",
      "Epoch 21/30\n",
      "138/138 [==============================] - 0s 1ms/step - loss: 1.8680e-04 - mean_squared_error: 1.8680e-04\n",
      "Epoch 22/30\n",
      "138/138 [==============================] - 0s 1ms/step - loss: 1.5697e-04 - mean_squared_error: 1.5697e-04\n",
      "Epoch 23/30\n",
      "138/138 [==============================] - 0s 1ms/step - loss: 1.5254e-04 - mean_squared_error: 1.5254e-04\n",
      "Epoch 24/30\n",
      "138/138 [==============================] - 0s 2ms/step - loss: 1.5703e-04 - mean_squared_error: 1.5703e-04\n",
      "Epoch 25/30\n",
      "138/138 [==============================] - 0s 2ms/step - loss: 1.4329e-04 - mean_squared_error: 1.4329e-04\n",
      "Epoch 26/30\n",
      "138/138 [==============================] - 0s 1ms/step - loss: 1.2429e-04 - mean_squared_error: 1.2429e-04\n",
      "Epoch 27/30\n",
      "138/138 [==============================] - 0s 1ms/step - loss: 1.0929e-04 - mean_squared_error: 1.0929e-04\n",
      "Epoch 28/30\n",
      "138/138 [==============================] - 0s 1ms/step - loss: 1.2864e-04 - mean_squared_error: 1.2864e-04\n",
      "Epoch 29/30\n",
      "138/138 [==============================] - 0s 1ms/step - loss: 1.0930e-04 - mean_squared_error: 1.0930e-04\n",
      "Epoch 30/30\n",
      "138/138 [==============================] - 0s 1ms/step - loss: 1.0978e-04 - mean_squared_error: 1.0978e-04\n"
     ]
    },
    {
     "data": {
      "text/plain": [
       "<keras.callbacks.History at 0x13b2d8c1dd8>"
      ]
     },
     "execution_count": 42,
     "metadata": {},
     "output_type": "execute_result"
    }
   ],
   "source": [
    "t.train_model(lr=5e-4,n_epochs=30,verbose=1)"
   ]
  },
  {
   "cell_type": "markdown",
   "metadata": {},
   "source": [
    "### Plot the training error"
   ]
  },
  {
   "cell_type": "code",
   "execution_count": 43,
   "metadata": {},
   "outputs": [
    {
     "data": {
      "image/png": "[encoded data removed]",
      "text/plain": [
       "<Figure size 648x360 with 1 Axes>"
      ]
     },
     "metadata": {},
     "output_type": "display_data"
    }
   ],
   "source": [
    "t.plot_training_error()"
   ]
  },
  {
   "cell_type": "markdown",
   "metadata": {},
   "source": [
    "### Run a benchmark test (plots the test set ground truth against the predictions)\n",
    "\n",
    "This function computes and plots the test set performance against the ground truth (the true values of the test set). This feature is provided for a **one-shot visual check of the effectiveness of the model**. If the data scientist/ML engineer does not like the model performance, (s)he can just look at this plot and re-build and re-train the model."
   ]
  },
  {
   "cell_type": "code",
   "execution_count": 44,
   "metadata": {},
   "outputs": [
    {
     "data": {
      "image/png": "[encoded data removed]",
      "text/plain": [
       "<Figure size 576x360 with 1 Axes>"
      ]
     },
     "metadata": {},
     "output_type": "display_data"
    }
   ],
   "source": [
    "t.benchmark_test()"
   ]
  },
  {
   "cell_type": "markdown",
   "metadata": {},
   "source": [
    "### Calculate the root-mean-square-error (RMSE) of the test set predictions"
   ]
  },
  {
   "cell_type": "code",
   "execution_count": 45,
   "metadata": {},
   "outputs": [
    {
     "data": {
      "text/plain": [
       "20.452"
      ]
     },
     "execution_count": 45,
     "metadata": {},
     "output_type": "execute_result"
    }
   ],
   "source": [
    "t.rmse_test()"
   ]
  },
  {
   "cell_type": "markdown",
   "metadata": {},
   "source": [
    "### We can also calculate RMSE for any given test set"
   ]
  },
  {
   "cell_type": "code",
   "execution_count": 46,
   "metadata": {},
   "outputs": [],
   "source": [
    "# We take a random sample of 25 data points from the dataset\n",
    "df1 = t.df.sample(25)"
   ]
  },
  {
   "cell_type": "code",
   "execution_count": 47,
   "metadata": {},
   "outputs": [],
   "source": [
    "sample_test_x = df1[['x1','x2','x3','x4']]\n",
    "sample_test_y = df1['y']"
   ]
  },
  {
   "cell_type": "code",
   "execution_count": 48,
   "metadata": {},
   "outputs": [
    {
     "data": {
      "text/plain": [
       "20.04168063844275"
      ]
     },
     "execution_count": 48,
     "metadata": {},
     "output_type": "execute_result"
    }
   ],
   "source": [
    "t.rmse_error(sample_test_x,sample_test_y)"
   ]
  },
  {
   "cell_type": "markdown",
   "metadata": {},
   "source": [
    "There is also a method for mean-absolute-error (MAE) calculation - `mae_error()` "
   ]
  },
  {
   "cell_type": "markdown",
   "metadata": {},
   "source": [
    "### Model summary in simple English"
   ]
  },
  {
   "cell_type": "code",
   "execution_count": 49,
   "metadata": {},
   "outputs": [
    {
     "name": "stdout",
     "output_type": "stream",
     "text": [
      "Here is the model description\n",
      "===========================================================================\n",
      "Layer No. 1\n",
      "Number of neurons: 20\n",
      "Activation function: relu\n",
      "----------------------------------------\n",
      "Layer No. 2\n",
      "Number of neurons: 20\n",
      "Activation function: relu\n",
      "----------------------------------------\n",
      "Layer No. 3 (output layer)\n",
      "Layer No. 3\n",
      "Number of neurons: 1\n",
      "Activation function: linear\n",
      "----------------------------------------\n",
      "In total, there are 541 parameters in this model!\n",
      "\n"
     ]
    }
   ],
   "source": [
    "t.model_in_plain_english()"
   ]
  },
  {
   "cell_type": "markdown",
   "metadata": {},
   "source": [
    "### Keras-style model summary"
   ]
  },
  {
   "cell_type": "code",
   "execution_count": 50,
   "metadata": {},
   "outputs": [
    {
     "name": "stdout",
     "output_type": "stream",
     "text": [
      "_________________________________________________________________\n",
      "Layer (type)                 Output Shape              Param #   \n",
      "=================================================================\n",
      "dense_4 (Dense)              (None, 20)                100       \n",
      "_________________________________________________________________\n",
      "dense_5 (Dense)              (None, 20)                420       \n",
      "_________________________________________________________________\n",
      "dense_6 (Dense)              (None, 1)                 21        \n",
      "=================================================================\n",
      "Total params: 541\n",
      "Trainable params: 541\n",
      "Non-trainable params: 0\n",
      "_________________________________________________________________\n",
      "None\n"
     ]
    }
   ],
   "source": [
    "t.model_summary()"
   ]
  },
  {
   "cell_type": "markdown",
   "metadata": {},
   "source": [
    "### Save the trained model (with a default name)"
   ]
  },
  {
   "cell_type": "code",
   "execution_count": 51,
   "metadata": {},
   "outputs": [],
   "source": [
    "t.save_model()"
   ]
  },
  {
   "cell_type": "markdown",
   "metadata": {},
   "source": [
    "### Save the trained model with an user-supplied name"
   ]
  },
  {
   "cell_type": "code",
   "execution_count": 52,
   "metadata": {},
   "outputs": [],
   "source": [
    "t.save_model(\"My_model.h5\")"
   ]
  }
 ],
 "metadata": {
  "kernelspec": {
   "display_name": "Python 3",
   "language": "python",
   "name": "python3"
  },
  "language_info": {
   "codemirror_mode": {
    "name": "ipython",
    "version": 3
   },
   "file_extension": ".py",
   "mimetype": "text/x-python",
   "name": "python",
   "nbconvert_exporter": "python",
   "pygments_lexer": "ipython3",
   "version": "3.6.4"
  }
 },
 "nbformat": 4,
 "nbformat_minor": 4
}
